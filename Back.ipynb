{
 "cells": [
  {
   "cell_type": "markdown",
   "id": "supposed-excitement",
   "metadata": {},
   "source": [
    "# The Battle of Neighborhoods "
   ]
  },
  {
   "cell_type": "markdown",
   "id": "contemporary-saying",
   "metadata": {},
   "source": [
    "In this module, you will carry out all the remaining work to complete your capstone project. You will submit a report of your project for peer evaluation."
   ]
  },
  {
   "cell_type": "markdown",
   "id": "gentle-thread",
   "metadata": {},
   "source": [
    "## Key Concepts"
   ]
  },
  {
   "cell_type": "markdown",
   "id": "continued-keeping",
   "metadata": {},
   "source": [
    "_________________________________________________"
   ]
  },
  {
   "cell_type": "markdown",
   "id": "physical-bankruptcy",
   "metadata": {},
   "source": [
    "* Carry out the remaining work to complete the capstone project.\n",
    "* Submit a link to your project notebook and a complete project report."
   ]
  },
  {
   "cell_type": "markdown",
   "id": "competitive-winning",
   "metadata": {},
   "source": [
    "## Instructions"
   ]
  },
  {
   "cell_type": "markdown",
   "id": "close-classroom",
   "metadata": {},
   "source": [
    "In this week, you will continue working on your capstone project. Please remember by the end of this week, you will need to submit the following:\n",
    "\n",
    "1. A full report consisting of all of the following components (15 marks):\n",
    "* Introduction where you discuss the business problem and who would be interested in this project.\n",
    "* Data where you describe the data that will be used to solve the problem and the source of the data.\n",
    "* Methodology section which represents the main component of the report where you discuss and describe any exploratory data analysis that you did, any inferential statistical testing that you performed, if any, and what machine learnings were used and why.\n",
    "* Results section where you discuss the results.\n",
    "* Discussion section where you discuss any observations you noted and any recommendations you can make based on the results.\n",
    "* Conclusion section where you conclude the report.\n",
    "2. A link to your Notebook on your GitHub repository pushed showing your code. (15 marks)\n",
    "\n",
    "3. Your choice of a presentation or blog post. (10 marks)\n",
    "\n",
    "##### Here are examples of previous outstanding submissions that should give you an idea of what your report would look like, what your notebook would look like in terms of clean, clear, and well-commented code, and what your presentation would look like or your blog post would look like:\n",
    "1. Report: https://cocl.us/coursera_capstone_report\n",
    "2. Notebook: https://cocl.us/coursera_capstone_notebook\n",
    "3. Presentation: https://cocl.us/coursera_capstone_presentation\n",
    "4. Blog post: https://cocl.us/coursera_capstone_blogpost"
   ]
  },
  {
   "cell_type": "markdown",
   "id": "collectible-century",
   "metadata": {},
   "source": [
    "## My work"
   ]
  },
  {
   "cell_type": "markdown",
   "id": "super-dominican",
   "metadata": {},
   "source": [
    "____________________________________________________________________________________________________"
   ]
  },
  {
   "cell_type": "markdown",
   "id": "handled-duplicate",
   "metadata": {},
   "source": [
    "1. Report: https://github.com/BryanAstuyauri16/Cousera_Capstone3/blob/master/Data%20used%20to%20Battle%20of%20neighboorhoods.ipynb\n",
    "2. Notebook:https://github.com/BryanAstuyauri16/Cousera_Capstone3/blob/master/Final%20presentation%20Capstone%20project.ipynb\n"
   ]
  }
 ],
 "metadata": {
  "kernelspec": {
   "display_name": "Python 3",
   "language": "python",
   "name": "python3"
  },
  "language_info": {
   "codemirror_mode": {
    "name": "ipython",
    "version": 3
   },
   "file_extension": ".py",
   "mimetype": "text/x-python",
   "name": "python",
   "nbconvert_exporter": "python",
   "pygments_lexer": "ipython3",
   "version": "3.9.2"
  }
 },
 "nbformat": 4,
 "nbformat_minor": 5
}

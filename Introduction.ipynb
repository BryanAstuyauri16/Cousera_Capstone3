{
 "cells": [
  {
   "cell_type": "markdown",
   "id": "global-christopher",
   "metadata": {},
   "source": [
    "## Introduction"
   ]
  },
  {
   "cell_type": "markdown",
   "id": "alternate-spring",
   "metadata": {
    "tags": []
   },
   "source": [
    "##### In this experiment called 'Battle of Neighbourhoos' I am going to show how similar and dissimilar two random places in New York and Toronto can be and which one is the best place to start a business. First, in New York there are 5 boroughs and I decided to work with Brooklyn. On the other hand, Toronto has 6 districs and I chose North York"
   ]
  },
  {
   "cell_type": "markdown",
   "id": "pleasant-credits",
   "metadata": {},
   "source": [
    "##### Brooklyn and North York are very similar cities in overall perpesctives, that's why I decided to work with them. However, Brooklyn has many more neighbourhoods althoguh the difference between their areas,which is just a little bit(we can omit it). Therefore, the neighbourhoods of North York are larger."
   ]
  },
  {
   "cell_type": "markdown",
   "id": "trained-mileage",
   "metadata": {},
   "source": [
    "##### This report is specially intended for people who want to start a business and do not know where to start. There is a lot of fields where you can star something, but there is not so much land and this countries are first worl, so it is difficult to get a space and pay a rent could be very expensive for most people."
   ]
  },
  {
   "cell_type": "markdown",
   "id": "confident-aquatic",
   "metadata": {},
   "source": [
    "##### Finally, this report will show some details about two random neighbourhoods belong to our borough chose."
   ]
  }
 ],
 "metadata": {
  "kernelspec": {
   "display_name": "Python 3",
   "language": "python",
   "name": "python3"
  },
  "language_info": {
   "codemirror_mode": {
    "name": "ipython",
    "version": 3
   },
   "file_extension": ".py",
   "mimetype": "text/x-python",
   "name": "python",
   "nbconvert_exporter": "python",
   "pygments_lexer": "ipython3",
   "version": "3.9.2"
  }
 },
 "nbformat": 4,
 "nbformat_minor": 5
}

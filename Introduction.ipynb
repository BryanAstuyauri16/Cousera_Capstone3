{
 "cells": [
  {
   "cell_type": "markdown",
   "id": "usual-module",
   "metadata": {},
   "source": [
    "## Introduction"
   ]
  },
  {
   "cell_type": "markdown",
   "id": "handled-columbia",
   "metadata": {
    "tags": []
   },
   "source": [
    "##### In this experiment called 'The Battle of Neighbourhoos' I am going to show how similar and dissimilar two random places in New York and Toronto can be and which one is the best place to start a business. First, in New York there are 5 boroughs and I decided to work with Brooklyn. On the other hand, Toronto has 6 districs and I chose North York."
   ]
  },
  {
   "cell_type": "markdown",
   "id": "yellow-discipline",
   "metadata": {},
   "source": [
    "##### Brooklyn and North York are very similar cities in overall perpesctives, that's why I decided to work with them. However, Brooklyn has many more neighbourhoods althoguh the difference between their areas,which is just a little bit(we can omit it). Therefore, the neighbourhoods of North York are larger."
   ]
  },
  {
   "cell_type": "markdown",
   "id": "frank-honor",
   "metadata": {},
   "source": [
    "##### This report is specially intended for people who want to start a business. There is a lot of fields where you can start something, but there is not so much space and this countries are first world, so it is difficult to get a space and paying a rent could be very expensive for most people. As immigration in these countries is not pretty difficult, people from poor countries can get good jobs and then start their own business."
   ]
  },
  {
   "cell_type": "markdown",
   "id": "multiple-samuel",
   "metadata": {},
   "source": [
    "##### Finally, this report will show some details about two random neighbourhoods belong to every borough chosen to see even more deeply the difference between a neighbourhood in EEUU and Canada in general standards."
   ]
  },
  {
   "cell_type": "code",
   "execution_count": null,
   "id": "opening-disaster",
   "metadata": {},
   "outputs": [],
   "source": []
  }
 ],
 "metadata": {
  "kernelspec": {
   "display_name": "Python 3",
   "language": "python",
   "name": "python3"
  },
  "language_info": {
   "codemirror_mode": {
    "name": "ipython",
    "version": 3
   },
   "file_extension": ".py",
   "mimetype": "text/x-python",
   "name": "python",
   "nbconvert_exporter": "python",
   "pygments_lexer": "ipython3",
   "version": "3.9.2"
  }
 },
 "nbformat": 4,
 "nbformat_minor": 5
}
